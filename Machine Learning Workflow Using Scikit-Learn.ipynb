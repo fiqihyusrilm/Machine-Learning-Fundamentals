{
 "cells": [
  {
   "cell_type": "markdown",
   "id": "combined-physiology",
   "metadata": {},
   "source": [
    "## Load dataset Iris"
   ]
  },
  {
   "cell_type": "code",
   "execution_count": 1,
   "id": "potential-bandwidth",
   "metadata": {},
   "outputs": [],
   "source": [
    "from sklearn.datasets import load_iris\n",
    "iris = load_iris()\n",
    "X = iris.data\n",
    "y = iris.target"
   ]
  },
  {
   "cell_type": "markdown",
   "id": "matched-portuguese",
   "metadata": {},
   "source": [
    "## Training & Testing"
   ]
  },
  {
   "cell_type": "code",
   "execution_count": 2,
   "id": "reliable-lecture",
   "metadata": {},
   "outputs": [],
   "source": [
    "from sklearn.model_selection import train_test_split\n",
    "\n",
    "X_train, X_test, y_train, y_test = train_test_split(X, y, test_size=0.3, random_state=1) # random state untuk pengacakan"
   ]
  },
  {
   "cell_type": "markdown",
   "id": "qualified-growing",
   "metadata": {},
   "source": [
    "## Training model Using K-NN"
   ]
  },
  {
   "cell_type": "raw",
   "id": "swedish-telling",
   "metadata": {},
   "source": [
    "fit used training model\n",
    "predict used estimation or predict"
   ]
  },
  {
   "cell_type": "code",
   "execution_count": 6,
   "id": "concrete-stand",
   "metadata": {},
   "outputs": [
    {
     "data": {
      "text/plain": [
       "KNeighborsClassifier(n_neighbors=3)"
      ]
     },
     "execution_count": 6,
     "metadata": {},
     "output_type": "execute_result"
    }
   ],
   "source": [
    "from sklearn.neighbors import KNeighborsClassifier as KNN\n",
    "\n",
    "model = KNN(n_neighbors=3)\n",
    "model.fit(X_train, y_train)"
   ]
  },
  {
   "cell_type": "code",
   "execution_count": 9,
   "id": "embedded-diary",
   "metadata": {},
   "outputs": [
    {
     "data": {
      "text/plain": [
       "array([0, 1, 1, 0, 2, 1, 2, 0, 0, 2, 1, 0, 2, 1, 1, 0, 1, 1, 0, 0, 1, 1,\n",
       "       1, 0, 2, 1, 0, 0, 1, 2, 1, 2, 1, 2, 2, 0, 1, 0, 1, 2, 2, 0, 1, 2,\n",
       "       1])"
      ]
     },
     "execution_count": 9,
     "metadata": {},
     "output_type": "execute_result"
    }
   ],
   "source": [
    "y_pred = model.predict(X_test)\n",
    "y_pred"
   ]
  },
  {
   "cell_type": "markdown",
   "id": "laughing-atlantic",
   "metadata": {},
   "source": [
    "## Model Evaluation using metric accuracy"
   ]
  },
  {
   "cell_type": "code",
   "execution_count": 11,
   "id": "ongoing-business",
   "metadata": {},
   "outputs": [
    {
     "name": "stdout",
     "output_type": "stream",
     "text": [
      "0.9777777777777777\n"
     ]
    }
   ],
   "source": [
    "from sklearn.metrics import accuracy_score\n",
    "acc = accuracy_score(y_test, y_pred)\n",
    "print(acc)"
   ]
  },
  {
   "cell_type": "markdown",
   "id": "third-skill",
   "metadata": {},
   "source": [
    "## New Data"
   ]
  },
  {
   "cell_type": "code",
   "execution_count": 12,
   "id": "introductory-dallas",
   "metadata": {},
   "outputs": [],
   "source": [
    "new_data = [[4,5,3,2],\n",
    "           [2,4,3,5]]"
   ]
  },
  {
   "cell_type": "code",
   "execution_count": 13,
   "id": "coordinate-identification",
   "metadata": {},
   "outputs": [
    {
     "data": {
      "text/plain": [
       "array([0, 2])"
      ]
     },
     "execution_count": 13,
     "metadata": {},
     "output_type": "execute_result"
    }
   ],
   "source": [
    "preds = model.predict(new_data)\n",
    "preds"
   ]
  },
  {
   "cell_type": "code",
   "execution_count": 16,
   "id": "fancy-window",
   "metadata": {},
   "outputs": [
    {
     "name": "stdout",
     "output_type": "stream",
     "text": [
      "Result: ['setosa', 'virginica']\n"
     ]
    }
   ],
   "source": [
    "pred_species = [iris.target_names[p] for p in preds]\n",
    "print('Result:', pred_species)"
   ]
  },
  {
   "cell_type": "markdown",
   "id": "powered-sheriff",
   "metadata": {},
   "source": [
    "## Dump Load Trained Model"
   ]
  },
  {
   "cell_type": "code",
   "execution_count": 18,
   "id": "incredible-flooring",
   "metadata": {},
   "outputs": [
    {
     "data": {
      "text/plain": [
       "['iris_knn.joblib']"
      ]
     },
     "execution_count": 18,
     "metadata": {},
     "output_type": "execute_result"
    }
   ],
   "source": [
    "import joblib\n",
    "joblib.dump(model, 'iris_knn.joblib')"
   ]
  },
  {
   "cell_type": "markdown",
   "id": "blond-spank",
   "metadata": {},
   "source": [
    "## Loading machine learning from joblib file"
   ]
  },
  {
   "cell_type": "code",
   "execution_count": 19,
   "id": "confused-corruption",
   "metadata": {},
   "outputs": [],
   "source": [
    "production_model = joblib.load('iris_knn.joblib')"
   ]
  },
  {
   "cell_type": "code",
   "execution_count": null,
   "id": "relative-upset",
   "metadata": {},
   "outputs": [],
   "source": []
  }
 ],
 "metadata": {
  "kernelspec": {
   "display_name": "Python 3",
   "language": "python",
   "name": "python3"
  },
  "language_info": {
   "codemirror_mode": {
    "name": "ipython",
    "version": 3
   },
   "file_extension": ".py",
   "mimetype": "text/x-python",
   "name": "python",
   "nbconvert_exporter": "python",
   "pygments_lexer": "ipython3",
   "version": "3.8.5"
  }
 },
 "nbformat": 4,
 "nbformat_minor": 5
}
